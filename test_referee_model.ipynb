{
 "cells": [
  {
   "cell_type": "code",
   "execution_count": 1,
   "metadata": {},
   "outputs": [],
   "source": [
    "import time\n",
    "from myutils import io\n",
    "from src.referee_model import call_glm, get_result"
   ]
  },
  {
   "cell_type": "code",
   "execution_count": 5,
   "metadata": {},
   "outputs": [
    {
     "name": "stdout",
     "output_type": "stream",
     "text": [
      "The server is overloaded or not ready yet.\n",
      "Request timed out: HTTPSConnectionPool(host='api.openai.com', port=443): Read timed out. (read timeout=600)\n",
      "Request timed out: HTTPSConnectionPool(host='api.openai.com', port=443): Read timed out. (read timeout=600)\n",
      "Request timed out: HTTPSConnectionPool(host='api.openai.com', port=443): Read timed out. (read timeout=600)\n",
      "Request timed out: HTTPSConnectionPool(host='api.openai.com', port=443): Read timed out. (read timeout=600)\n",
      "Request timed out: HTTPSConnectionPool(host='api.openai.com', port=443): Read timed out. (read timeout=600)\n",
      "Error communicating with OpenAI: ('Connection aborted.', ConnectionResetError(104, 'Connection reset by peer'))\n",
      "Error communicating with OpenAI: ('Connection aborted.', ConnectionResetError(104, 'Connection reset by peer'))\n",
      "Request timed out: HTTPSConnectionPool(host='api.openai.com', port=443): Read timed out. (read timeout=600)\n",
      "Request timed out: HTTPSConnectionPool(host='api.openai.com', port=443): Read timed out. (read timeout=600)\n",
      "The server is overloaded or not ready yet.\n",
      "The server is overloaded or not ready yet.\n",
      "The server is overloaded or not ready yet.\n"
     ]
    }
   ],
   "source": [
    "from myutils import net, gpt\n",
    "net.set_proxy()\n",
    "api_keys = []  # 在这里添加api_key\n",
    "testset = io.jsonload(\"dataset/test_format3.json\")\n",
    "result = []\n",
    "i = 0\n",
    "for unit in testset:\n",
    "    prompt = unit['input']\n",
    "    output_ = unit['output']\n",
    "    result_tag = unit['result_tag']\n",
    "    lock = True\n",
    "    while lock:\n",
    "        try:\n",
    "            api_key = api_keys[i]\n",
    "            model_response = gpt.call_gpt(prompt, api_key, 'gpt-3.5-turbo')\n",
    "            lock = False\n",
    "        except Exception as e:\n",
    "            print(e)\n",
    "            i = (i+1)%len(api_keys)\n",
    "    model_tag = get_result(model_response)\n",
    "    unit['model_response'] = model_response\n",
    "    unit['model_tag'] = model_tag\n",
    "    result.append(unit)\n",
    "    io.jsondump(result, f\"test_refereen_model_result/gpt3.5.json\")\n",
    "    i = (i+1)%len(api_keys)\n",
    "net.unset_proxy()"
   ]
  },
  {
   "cell_type": "code",
   "execution_count": 2,
   "metadata": {},
   "outputs": [],
   "source": [
    "testset = io.jsonload(\"dataset/test_format3.json\")\n",
    "result = []\n",
    "start_time = time.time_ns()\n",
    "for unit in testset:  \n",
    "    prompt = unit['input']\n",
    "    output_ = unit['output']\n",
    "    result_tag = unit['result_tag']\n",
    "    model_response = call_glm(prompt)\n",
    "    model_tag = get_result(model_response)\n",
    "    unit['model_response'] = model_response\n",
    "    unit['model_tag'] = model_tag\n",
    "    result.append(unit)\n",
    "    io.jsondump(result, f\"test_refereen_model_result/{start_time}.json\")"
   ]
  },
  {
   "cell_type": "code",
   "execution_count": 5,
   "metadata": {},
   "outputs": [
    {
     "name": "stdout",
     "output_type": "stream",
     "text": [
      "总数1000\n",
      "正确679\n",
      "大错101\n"
     ]
    }
   ],
   "source": [
    "result = io.jsonload(\"test_refereen_model_result/1697023678631795765.json\")\n",
    "correct_num = 0\n",
    "complete_wrong_num = 0\n",
    "for unit in result:\n",
    "    tag1 = unit['result_tag']\n",
    "    tag2 = unit['model_tag']\n",
    "    if tag1 == tag2:\n",
    "        correct_num += 1\n",
    "    if tag1==0 and tag2==1:\n",
    "        complete_wrong_num += 1\n",
    "    if tag1==1 and tag2==0:\n",
    "        complete_wrong_num += 1\n",
    "print(f\"总数{len(result)}\")\n",
    "print(f\"正确{correct_num}\")\n",
    "print(f\"大错{complete_wrong_num}\")"
   ]
  }
 ],
 "metadata": {
  "kernelspec": {
   "display_name": "d2l",
   "language": "python",
   "name": "python3"
  },
  "language_info": {
   "codemirror_mode": {
    "name": "ipython",
    "version": 3
   },
   "file_extension": ".py",
   "mimetype": "text/x-python",
   "name": "python",
   "nbconvert_exporter": "python",
   "pygments_lexer": "ipython3",
   "version": "3.10.13"
  }
 },
 "nbformat": 4,
 "nbformat_minor": 2
}
