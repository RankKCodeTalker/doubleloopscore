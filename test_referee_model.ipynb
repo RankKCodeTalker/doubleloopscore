{
 "cells": [
  {
   "cell_type": "code",
   "execution_count": null,
   "metadata": {},
   "outputs": [],
   "source": [
    "import time\n",
    "from myutils import io\n",
    "from src.referee_model import call_glm, get_result"
   ]
  },
  {
   "cell_type": "code",
   "execution_count": null,
   "metadata": {},
   "outputs": [],
   "source": [
    "testset = io.jsonload(\"dataset/test_format3.json\")\n",
    "result = []\n",
    "correct_num = 0\n",
    "start_time = time.time_ns()\n",
    "for unit in testset:\n",
    "    prompt = unit['input']\n",
    "    output_ = unit['output']\n",
    "    result_tag = unit['result_tag']\n",
    "    model_response = call_glm(prompt)\n",
    "    model_tag = get_result(model_response)\n",
    "    if model_tag == result_tag:\n",
    "        correct_num += 1\n",
    "    unit['model_response'] = model_response\n",
    "    unit['model_tag'] = model_tag\n",
    "    result.append(unit)\n",
    "    io.jsondump(result, f\"test_refereen_model_result/{start_time}.json\")\n",
    "print(correct_num/len(testset))"
   ]
  }
 ],
 "metadata": {
  "kernelspec": {
   "display_name": "d2l",
   "language": "python",
   "name": "python3"
  },
  "language_info": {
   "name": "python",
   "version": "3.9.17"
  }
 },
 "nbformat": 4,
 "nbformat_minor": 2
}
