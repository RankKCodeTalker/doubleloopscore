{
 "cells": [
  {
   "cell_type": "code",
   "execution_count": 2,
   "metadata": {},
   "outputs": [],
   "source": [
    "from myutils import io\n",
    "evalset = io.jsonload(\"data/eval.json\")"
   ]
  },
  {
   "cell_type": "markdown",
   "metadata": {},
   "source": [
    "gpt3.5、gpt4"
   ]
  },
  {
   "cell_type": "code",
   "execution_count": null,
   "metadata": {},
   "outputs": [],
   "source": [
    "from myutils import net, gpt\n",
    "net.set_proxy()\n",
    "api_keys = []\n",
    "result = []\n",
    "i = 0\n",
    "for unit in evalset:\n",
    "    question = unit['question']\n",
    "    lock = True\n",
    "    while lock:\n",
    "        try:\n",
    "            api_key = api_keys[i]\n",
    "            model_response = gpt.call_gpt(question, api_key, 'gpt-3.5-turbo')\n",
    "            lock = False\n",
    "        except Exception as e:\n",
    "            print(e)\n",
    "            i = (i+1)%len(api_keys)\n",
    "    result.append({\n",
    "        \"question\": question,\n",
    "        \"answer\": model_response\n",
    "    })\n",
    "    io.jsondump(result, \"evaluated_models/gpt3.5.json\")\n",
    "    i = (i+1)%len(api_keys)\n",
    "net.unset_proxy()"
   ]
  },
  {
   "cell_type": "markdown",
   "metadata": {},
   "source": [
    "chatglm-6b、chatglm2-6b、qwen7b、baichuan-13b"
   ]
  },
  {
   "cell_type": "code",
   "execution_count": null,
   "metadata": {},
   "outputs": [],
   "source": []
  }
 ],
 "metadata": {
  "kernelspec": {
   "display_name": "d2l",
   "language": "python",
   "name": "python3"
  },
  "language_info": {
   "codemirror_mode": {
    "name": "ipython",
    "version": 3
   },
   "file_extension": ".py",
   "mimetype": "text/x-python",
   "name": "python",
   "nbconvert_exporter": "python",
   "pygments_lexer": "ipython3",
   "version": "3.9.17"
  }
 },
 "nbformat": 4,
 "nbformat_minor": 2
}
