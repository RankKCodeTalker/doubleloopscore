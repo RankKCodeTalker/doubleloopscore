{
 "cells": [
  {
   "cell_type": "code",
   "execution_count": 1,
   "metadata": {},
   "outputs": [],
   "source": [
    "from myutils import io"
   ]
  },
  {
   "cell_type": "markdown",
   "metadata": {},
   "source": [
    "evaluated_model\n",
    "```json\n",
    "[\n",
    "    {\n",
    "        \"question\": \"\",\n",
    "        \"answer\": \"\"\n",
    "    }\n",
    "]\n",
    "```"
   ]
  },
  {
   "cell_type": "code",
   "execution_count": null,
   "metadata": {},
   "outputs": [],
   "source": [
    "data = io.jsonload(\"data/evalv2.json\")\n",
    "evaluated_path = \"\"\n",
    "evaluated_model = io.jsonload(evaluated_path)"
   ]
  },
  {
   "cell_type": "code",
   "execution_count": null,
   "metadata": {},
   "outputs": [],
   "source": [
    "from src.double_loop import double_loop_match, double_loop_score\n",
    "assert len(data)==len(evaluated_model)\n",
    "for data_unit, evaluated_model_unit in zip(data, evaluated_model):\n",
    "    assert data_unit['question'] == evaluated_model_unit['question']\n",
    "result = {\n",
    "    \"path\": evaluated_path,\n",
    "    \"average_score\": 0,\n",
    "    \"logs\": []\n",
    "}\n",
    "sum_score = 0\n",
    "for data_unit, evaluated_model_unit in zip(data, evaluated_model):\n",
    "    question = data_unit['question']\n",
    "    evaluated_answer = evaluated_model_unit['answer']\n",
    "    scored_answers = [unit['answer'] for unit in data_unit['answers']]\n",
    "    ys = [unit['score'] for unit in data_unit['answers']]\n",
    "    xc, xs = double_loop_match(question, evaluated_answer, scored_answers)\n",
    "    yc = double_loop_score(xc, xs, ys)\n",
    "    sum_score += yc\n",
    "    result['logs'].append({\n",
    "        \"xc\": xc,\n",
    "        \"xs\": xs,\n",
    "        \"yc\": yc\n",
    "    })\n",
    "result['average_score'] = sum_score / len(data)\n",
    "io.jsondump(result, evaluated_path+\".log\")"
   ]
  }
 ],
 "metadata": {
  "kernelspec": {
   "display_name": "d2l",
   "language": "python",
   "name": "python3"
  },
  "language_info": {
   "codemirror_mode": {
    "name": "ipython",
    "version": 3
   },
   "file_extension": ".py",
   "mimetype": "text/x-python",
   "name": "python",
   "nbconvert_exporter": "python",
   "pygments_lexer": "ipython3",
   "version": "3.9.17"
  }
 },
 "nbformat": 4,
 "nbformat_minor": 2
}
